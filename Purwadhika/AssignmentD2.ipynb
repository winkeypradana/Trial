{
 "cells": [
  {
   "cell_type": "code",
   "execution_count": 2,
   "metadata": {},
   "outputs": [
    {
     "name": "stdout",
     "output_type": "stream",
     "text": [
      "Reversed Number:  7654\n",
      "sum =  22\n"
     ]
    }
   ],
   "source": [
    "#Question 1\n",
    "\n",
    "\n",
    "num = int(input('masukan bilangan: '))\n",
    "reversed_num = 0\n",
    "sum = 0\n",
    "\n",
    "while num != 0:\n",
    "    digit = num % 10\n",
    "    sum = sum + digit\n",
    "    reversed_num = reversed_num * 10 + digit\n",
    "    num = num//10\n",
    "\n",
    "print(\"Reversed Number: \",reversed_num)\n",
    "print('sum = ',sum)"
   ]
  },
  {
   "cell_type": "code",
   "execution_count": 88,
   "metadata": {},
   "outputs": [
    {
     "ename": "TypeError",
     "evalue": "unsupported operand type(s) for -: 'int' and 'str'",
     "output_type": "error",
     "traceback": [
      "\u001b[0;31m---------------------------------------------------------------------------\u001b[0m",
      "\u001b[0;31mTypeError\u001b[0m                                 Traceback (most recent call last)",
      "Cell \u001b[0;32mIn[88], line 7\u001b[0m\n\u001b[1;32m      4\u001b[0m x2, y2 \u001b[39m=\u001b[39m \u001b[39minput\u001b[39m(\u001b[39m'\u001b[39m\u001b[39mEnter the coordinate of point B: \u001b[39m\u001b[39m'\u001b[39m)\u001b[39m.\u001b[39msplit(\u001b[39m'\u001b[39m\u001b[39m,\u001b[39m\u001b[39m'\u001b[39m)\n\u001b[1;32m      6\u001b[0m x1,x2,y2,y2 \u001b[39m=\u001b[39m\u001b[39mint\u001b[39m(x1), \u001b[39mint\u001b[39m(x2), \u001b[39mint\u001b[39m(y1), \u001b[39mint\u001b[39m(y2)\n\u001b[0;32m----> 7\u001b[0m slope \u001b[39m=\u001b[39m \u001b[39mint\u001b[39m ((y2\u001b[39m-\u001b[39;49my1)\u001b[39m/\u001b[39m(x2\u001b[39m-\u001b[39mx1))\n\u001b[1;32m      8\u001b[0m distance \u001b[39m=\u001b[39m math\u001b[39m.\u001b[39msqrt(((x2\u001b[39m-\u001b[39mx1)\u001b[39m*\u001b[39m\u001b[39m*\u001b[39m\u001b[39m2\u001b[39m) \u001b[39m+\u001b[39m (y2\u001b[39m-\u001b[39my1)\u001b[39m*\u001b[39m\u001b[39m*\u001b[39m\u001b[39m2\u001b[39m)\n\u001b[1;32m     10\u001b[0m \u001b[39mprint\u001b[39m(\u001b[39mf\u001b[39m\u001b[39m'''\u001b[39m\n\u001b[1;32m     11\u001b[0m \u001b[39m      slope : \u001b[39m\u001b[39m{\u001b[39;00mslope\u001b[39m}\u001b[39;00m\n\u001b[1;32m     12\u001b[0m \u001b[39m      distance: \u001b[39m\u001b[39m{\u001b[39;00m\u001b[39mround\u001b[39m(distance,\u001b[39m \u001b[39m\u001b[39m3\u001b[39m)\u001b[39m}\u001b[39;00m\u001b[39m'''\u001b[39m\n\u001b[1;32m     13\u001b[0m       )\n",
      "\u001b[0;31mTypeError\u001b[0m: unsupported operand type(s) for -: 'int' and 'str'"
     ]
    }
   ],
   "source": [
    "#Question 2\n",
    "import math\n",
    "x1, y1 = input('Enter the coordinate of point A: ').split(',')\n",
    "x2, y2 = input('Enter the coordinate of point B: ').split(',')\n",
    "\n",
    "x1,x2,y2,y2 =int(x1), int(x2), int(y1), int(y2)\n",
    "slope = int ((y2-y1)/(x2-x1))\n",
    "distance = math.sqrt(((x2-x1)**2) + (y2-y1)**2)\n",
    "\n",
    "print(f'''\n",
    "      slope : {slope}\n",
    "      distance: {round(distance, 3)}'''\n",
    "      )"
   ]
  },
  {
   "cell_type": "code",
   "execution_count": 1,
   "metadata": {},
   "outputs": [
    {
     "name": "stdout",
     "output_type": "stream",
     "text": [
      "dhiwa purka\n"
     ]
    }
   ],
   "source": [
    "#Question 3\n",
    "\n",
    "# Input Enter the sample string: 'purwa, dhika'\n",
    "\n",
    "# Output expected result: 'dhiwa purka'\n",
    "\n",
    "def chars_mix_up (a,b):\n",
    "    new_a = b [:3] + a[3:]\n",
    "    new_b = a [:3] + b[3:]\n",
    "    return new_a + ' ' + new_b\n",
    "\n",
    "print (chars_mix_up('purwa', 'dhika'))"
   ]
  },
  {
   "cell_type": "code",
   "execution_count": 28,
   "metadata": {},
   "outputs": [
    {
     "name": "stdout",
     "output_type": "stream",
     "text": [
      "Expected result: jPKdaA\n"
     ]
    }
   ],
   "source": [
    "#Question 4\n",
    "# Input\n",
    "text1 = 'joGjaKARTa'\n",
    "text2 = 'PurWAdhiKA'\n",
    "\n",
    "# Output expected result: 'jPKdaA'\n",
    "\n",
    "result = f\"{text1[0]}{text2[0]}{text1[5]}{text2[-5]}{text1[-1]}{text2[-1]}\"\n",
    "print(\"Expected result:\", result)"
   ]
  },
  {
   "cell_type": "code",
   "execution_count": 58,
   "metadata": {},
   "outputs": [
    {
     "name": "stdout",
     "output_type": "stream",
     "text": [
      "Expected result: JC210DS\n"
     ]
    }
   ],
   "source": [
    "#Question 5\n",
    "first_text = 'JCDS'\n",
    "second_text = '210'\n",
    "\n",
    "# Output expected result: 'JC210DS'\n",
    "\n",
    "result = f\"{first_text[:len(first_text)//2]}{second_text}{first_text[len(first_text)//2:]}\"\n",
    "print(\"Expected result:\", result)\n"
   ]
  }
 ],
 "metadata": {
  "kernelspec": {
   "display_name": "Python 3",
   "language": "python",
   "name": "python3"
  },
  "language_info": {
   "codemirror_mode": {
    "name": "ipython",
    "version": 3
   },
   "file_extension": ".py",
   "mimetype": "text/x-python",
   "name": "python",
   "nbconvert_exporter": "python",
   "pygments_lexer": "ipython3",
   "version": "3.11.5"
  },
  "orig_nbformat": 4
 },
 "nbformat": 4,
 "nbformat_minor": 2
}
